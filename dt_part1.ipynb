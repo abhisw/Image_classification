{
 "cells": [
  {
   "cell_type": "code",
   "execution_count": 1,
   "metadata": {
    "collapsed": false
   },
   "outputs": [
    {
     "name": "stdout",
     "output_type": "stream",
     "text": [
      "/home/john\n"
     ]
    }
   ],
   "source": [
    "cd ~\n"
   ]
  },
  {
   "cell_type": "code",
   "execution_count": 13,
   "metadata": {
    "collapsed": false
   },
   "outputs": [
    {
     "data": {
      "text/plain": [
       "u'/home/john/code_archive'"
      ]
     },
     "execution_count": 13,
     "metadata": {},
     "output_type": "execute_result"
    }
   ],
   "source": [
    "pwd\n"
   ]
  },
  {
   "cell_type": "code",
   "execution_count": 14,
   "metadata": {
    "collapsed": true
   },
   "outputs": [],
   "source": [
    "import numpy as np\n",
    "\n",
    "train_path1 = \"train-images.idx3-ubyte\"\n",
    "train_path2 = \"train-labels.idx1-ubyte\"\n",
    "\n",
    "test_path1 = \"t10k-images.idx3-ubyte\"\n",
    "test_path2 = \"t10k-labels.idx1-ubyte\"\n",
    "\n",
    "f = open(train_path2, 'rb')\n",
    "f.read(8)\n",
    "label = np.fromfile(f, dtype = np.int8)\n",
    "f.close()\n",
    "\n",
    "f = open(train_path1, 'rb')\n",
    "f.read(16)\n",
    "train_img = np.fromfile(f, dtype=np.uint8).reshape(len(label), 28,28)\n",
    "\n",
    "f = open(test_path2, 'rb')\n",
    "f.read(8)\n",
    "test_label = np.fromfile(f, dtype = np.int8)\n",
    "f.close()\n",
    "\n",
    "f = open(test_path1, 'rb')\n",
    "f.read(16)\n",
    "test_img = np.fromfile(f, dtype=np.uint8).reshape(len(test_label), 28,28)\n",
    "f.close()"
   ]
  },
  {
   "cell_type": "code",
   "execution_count": 17,
   "metadata": {
    "collapsed": false
   },
   "outputs": [],
   "source": [
    "from skimage.feature import hog\n",
    "list_hog_fd = []\n",
    "for img in train_img:\n",
    "\tfd = hog(img, orientations=9, pixels_per_cell=(14, 14), cells_per_block=(1, 1), visualise=False) \n",
    "\tlist_hog_fd.append(fd)"
   ]
  },
  {
   "cell_type": "code",
   "execution_count": 20,
   "metadata": {
    "collapsed": false
   },
   "outputs": [
    {
     "name": "stdout",
     "output_type": "stream",
     "text": [
      "60000\n",
      "<type 'numpy.ndarray'>\n",
      "[ 0.07696248  0.03292037  0.04609571  0.14920537  0.24781343  0.04206332\n",
      "  0.1051483   0.24539607  0.05439494  0.04968772  0.06285947  0.11398777\n",
      "  0.19022854  0.30280853  0.12352064  0.11887551  0.01682727  0.02120455\n",
      "  0.01704607  0.0195692   0.31768341  0.29808455  0.25944586  0.00826963\n",
      "  0.0489196   0.00787495  0.02310672  0.12982461  0.03041461  0.1461202\n",
      "  0.22463123  0.05738206  0.04021633  0.29674964  0.          0.07466132]\n"
     ]
    }
   ],
   "source": [
    "print len(list_hog_fd)\n",
    "print type(list_hog_fd[0])\n",
    "print list_hog_fd[0]"
   ]
  },
  {
   "cell_type": "code",
   "execution_count": 21,
   "metadata": {
    "collapsed": true
   },
   "outputs": [],
   "source": [
    "hog_features = np.array(list_hog_fd, 'float64')"
   ]
  },
  {
   "cell_type": "code",
   "execution_count": 22,
   "metadata": {
    "collapsed": false
   },
   "outputs": [
    {
     "name": "stdout",
     "output_type": "stream",
     "text": [
      "[ 0.07696248  0.03292037  0.04609571  0.14920537  0.24781343  0.04206332\n",
      "  0.1051483   0.24539607  0.05439494  0.04968772  0.06285947  0.11398777\n",
      "  0.19022854  0.30280853  0.12352064  0.11887551  0.01682727  0.02120455\n",
      "  0.01704607  0.0195692   0.31768341  0.29808455  0.25944586  0.00826963\n",
      "  0.0489196   0.00787495  0.02310672  0.12982461  0.03041461  0.1461202\n",
      "  0.22463123  0.05738206  0.04021633  0.29674964  0.          0.07466132]\n"
     ]
    }
   ],
   "source": [
    "print hog_features[0]"
   ]
  },
  {
   "cell_type": "code",
   "execution_count": 23,
   "metadata": {
    "collapsed": true
   },
   "outputs": [],
   "source": [
    "import random\n"
   ]
  },
  {
   "cell_type": "code",
   "execution_count": 25,
   "metadata": {
    "collapsed": false
   },
   "outputs": [],
   "source": [
    "pick = random.sample(range(1,60000),10000)"
   ]
  },
  {
   "cell_type": "code",
   "execution_count": 26,
   "metadata": {
    "collapsed": true
   },
   "outputs": [],
   "source": [
    "X = []\n",
    "Y = []\n",
    "\n",
    "for i in pick:\n",
    "    X.append(hog_features[i])\n",
    "    Y.append(label[i])"
   ]
  },
  {
   "cell_type": "code",
   "execution_count": 27,
   "metadata": {
    "collapsed": true
   },
   "outputs": [],
   "source": [
    "pick = random.sample(range(1,len(test_label)),1000)"
   ]
  },
  {
   "cell_type": "code",
   "execution_count": 28,
   "metadata": {
    "collapsed": true
   },
   "outputs": [],
   "source": [
    "\n",
    "list_hog_fd = []\n",
    "for img in test_img:\n",
    "\tfd = hog(img, orientations=9, pixels_per_cell=(14, 14), cells_per_block=(1, 1), visualise=False) \n",
    "\tlist_hog_fd.append(fd)\n",
    "\n",
    "test_hog = np.array(list_hog_fd, 'float64')"
   ]
  },
  {
   "cell_type": "code",
   "execution_count": 29,
   "metadata": {
    "collapsed": true
   },
   "outputs": [],
   "source": [
    "test_X = []\n",
    "test_Y = []\n",
    "\n",
    "for i in pick:\n",
    "    test_X.append(test_hog[i])\n",
    "    test_Y.append(test_label[i])"
   ]
  },
  {
   "cell_type": "code",
   "execution_count": 30,
   "metadata": {
    "collapsed": false
   },
   "outputs": [
    {
     "name": "stdout",
     "output_type": "stream",
     "text": [
      "10000 10000 1000\n"
     ]
    }
   ],
   "source": [
    "print len(X),len(Y),len(test_X)"
   ]
  },
  {
   "cell_type": "code",
   "execution_count": 31,
   "metadata": {
    "collapsed": false
   },
   "outputs": [
    {
     "name": "stdout",
     "output_type": "stream",
     "text": [
      "2 1 minkowski\n",
      "0.894\n"
     ]
    }
   ],
   "source": [
    "from sklearn.neighbors import KNeighborsClassifier\n",
    "p_value, n_neigh ,met = (2,1,'minkowski') \n",
    "neigh = KNeighborsClassifier(p=p_value, n_neighbors=n_neigh, metric = met)\n",
    "neigh.fit(X, Y)\n",
    "print p_value, n_neigh ,met\n",
    "\n",
    "pred = neigh.predict(test_X)\n",
    "\n",
    "corr = 0\n",
    "for i in range(len(test_Y)):\n",
    "    if test_Y[i] == pred[i]:\n",
    "        corr += 1\n",
    "        \n",
    "print float(corr)/len(test_Y)\n"
   ]
  },
  {
   "cell_type": "code",
   "execution_count": 32,
   "metadata": {
    "collapsed": true
   },
   "outputs": [],
   "source": [
    "a = 2\n"
   ]
  },
  {
   "cell_type": "code",
   "execution_count": null,
   "metadata": {
    "collapsed": true
   },
   "outputs": [],
   "source": []
  }
 ],
 "metadata": {
  "kernelspec": {
   "display_name": "Python 2",
   "language": "python",
   "name": "python2"
  },
  "language_info": {
   "codemirror_mode": {
    "name": "ipython",
    "version": 2
   },
   "file_extension": ".py",
   "mimetype": "text/x-python",
   "name": "python",
   "nbconvert_exporter": "python",
   "pygments_lexer": "ipython2",
   "version": "2.7.6"
  }
 },
 "nbformat": 4,
 "nbformat_minor": 0
}
